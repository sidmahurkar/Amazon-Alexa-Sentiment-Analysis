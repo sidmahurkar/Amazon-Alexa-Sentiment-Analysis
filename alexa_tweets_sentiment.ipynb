{
  "nbformat": 4,
  "nbformat_minor": 0,
  "metadata": {
    "colab": {
      "name": "alexa tweets sentiment.ipynb",
      "provenance": [],
      "include_colab_link": true
    },
    "kernelspec": {
      "name": "python3",
      "display_name": "Python 3"
    },
    "accelerator": "GPU"
  },
  "cells": [
    {
      "cell_type": "markdown",
      "metadata": {
        "id": "view-in-github",
        "colab_type": "text"
      },
      "source": [
        "<a href=\"https://colab.research.google.com/github/sidmahurkar/Amazon-Alexa-Sentiment-Analysis/blob/master/alexa_tweets_sentiment.ipynb\" target=\"_parent\"><img src=\"https://colab.research.google.com/assets/colab-badge.svg\" alt=\"Open In Colab\"/></a>"
      ]
    },
    {
      "cell_type": "code",
      "metadata": {
        "id": "vSR0SLCW0UsN",
        "colab_type": "code",
        "colab": {}
      },
      "source": [
        "# Importing Important Libraries\n",
        "import io\n",
        "import os\n",
        "import json\n",
        "import pandas as pd\n",
        "import numpy as np\n",
        "import re\n",
        "from nltk import word_tokenize\n",
        "import matplotlib.pyplot as plt\n",
        "from sklearn.model_selection import train_test_split\n",
        "\n",
        "from keras.models import Sequential\n",
        "from keras.layers import Dense, Dropout, LSTM, Embedding\n",
        "from keras.preprocessing.text import Tokenizer\n",
        "from keras.preprocessing.sequence import pad_sequences\n",
        "from nltk.corpus import stopwords\n",
        "\n",
        "from keras.layers import SimpleRNN,LSTM,CuDNNGRU,CuDNNLSTM,Conv1D,MaxPooling1D,Dropout\n",
        "from keras import regularizers\n",
        "from keras.layers import BatchNormalization\n",
        "from keras import optimizers\n",
        "from keras import initializers\n",
        "\n",
        "from keras.callbacks import *\n",
        "from keras import backend as K\n",
        "import keras\n",
        "from keras.callbacks import *\n",
        "from keras.optimizers import Adam "
      ],
      "execution_count": 0,
      "outputs": []
    },
    {
      "cell_type": "code",
      "metadata": {
        "id": "W0GDNPVMx5C8",
        "colab_type": "code",
        "colab": {
          "base_uri": "https://localhost:8080/",
          "height": 35
        },
        "outputId": "5db3d91a-5844-4ae8-d45f-d73854ef0928"
      },
      "source": [
        "from google.colab import drive\n",
        "drive.mount('/content/gdrive')"
      ],
      "execution_count": 100,
      "outputs": [
        {
          "output_type": "stream",
          "text": [
            "Drive already mounted at /content/gdrive; to attempt to forcibly remount, call drive.mount(\"/content/gdrive\", force_remount=True).\n"
          ],
          "name": "stdout"
        }
      ]
    },
    {
      "cell_type": "code",
      "metadata": {
        "id": "ySy1wszyzLdZ",
        "colab_type": "code",
        "colab": {}
      },
      "source": [
        "df = pd.read_csv('/content/gdrive/My Drive/amazon_alexa.tsv',encoding='utf-8',sep='\\t')"
      ],
      "execution_count": 0,
      "outputs": []
    },
    {
      "cell_type": "code",
      "metadata": {
        "id": "A1BU7_FGz-r8",
        "colab_type": "code",
        "colab": {
          "base_uri": "https://localhost:8080/",
          "height": 194
        },
        "outputId": "e988c851-44fb-46f9-e91e-bbe24986f609"
      },
      "source": [
        "df.head()"
      ],
      "execution_count": 102,
      "outputs": [
        {
          "output_type": "execute_result",
          "data": {
            "text/html": [
              "<div>\n",
              "<style scoped>\n",
              "    .dataframe tbody tr th:only-of-type {\n",
              "        vertical-align: middle;\n",
              "    }\n",
              "\n",
              "    .dataframe tbody tr th {\n",
              "        vertical-align: top;\n",
              "    }\n",
              "\n",
              "    .dataframe thead th {\n",
              "        text-align: right;\n",
              "    }\n",
              "</style>\n",
              "<table border=\"1\" class=\"dataframe\">\n",
              "  <thead>\n",
              "    <tr style=\"text-align: right;\">\n",
              "      <th></th>\n",
              "      <th>rating</th>\n",
              "      <th>date</th>\n",
              "      <th>variation</th>\n",
              "      <th>verified_reviews</th>\n",
              "      <th>feedback</th>\n",
              "    </tr>\n",
              "  </thead>\n",
              "  <tbody>\n",
              "    <tr>\n",
              "      <th>0</th>\n",
              "      <td>5</td>\n",
              "      <td>31-Jul-18</td>\n",
              "      <td>Charcoal Fabric</td>\n",
              "      <td>Love my Echo!</td>\n",
              "      <td>1</td>\n",
              "    </tr>\n",
              "    <tr>\n",
              "      <th>1</th>\n",
              "      <td>5</td>\n",
              "      <td>31-Jul-18</td>\n",
              "      <td>Charcoal Fabric</td>\n",
              "      <td>Loved it!</td>\n",
              "      <td>1</td>\n",
              "    </tr>\n",
              "    <tr>\n",
              "      <th>2</th>\n",
              "      <td>4</td>\n",
              "      <td>31-Jul-18</td>\n",
              "      <td>Walnut Finish</td>\n",
              "      <td>Sometimes while playing a game, you can answer...</td>\n",
              "      <td>1</td>\n",
              "    </tr>\n",
              "    <tr>\n",
              "      <th>3</th>\n",
              "      <td>5</td>\n",
              "      <td>31-Jul-18</td>\n",
              "      <td>Charcoal Fabric</td>\n",
              "      <td>I have had a lot of fun with this thing. My 4 ...</td>\n",
              "      <td>1</td>\n",
              "    </tr>\n",
              "    <tr>\n",
              "      <th>4</th>\n",
              "      <td>5</td>\n",
              "      <td>31-Jul-18</td>\n",
              "      <td>Charcoal Fabric</td>\n",
              "      <td>Music</td>\n",
              "      <td>1</td>\n",
              "    </tr>\n",
              "  </tbody>\n",
              "</table>\n",
              "</div>"
            ],
            "text/plain": [
              "   rating  ... feedback\n",
              "0       5  ...        1\n",
              "1       5  ...        1\n",
              "2       4  ...        1\n",
              "3       5  ...        1\n",
              "4       5  ...        1\n",
              "\n",
              "[5 rows x 5 columns]"
            ]
          },
          "metadata": {
            "tags": []
          },
          "execution_count": 102
        }
      ]
    },
    {
      "cell_type": "code",
      "metadata": {
        "id": "chlfRlro0JEk",
        "colab_type": "code",
        "colab": {
          "base_uri": "https://localhost:8080/",
          "height": 194
        },
        "outputId": "6264eeb0-bc06-4c82-e3d5-6217464cf33e"
      },
      "source": [
        "df.tail()"
      ],
      "execution_count": 103,
      "outputs": [
        {
          "output_type": "execute_result",
          "data": {
            "text/html": [
              "<div>\n",
              "<style scoped>\n",
              "    .dataframe tbody tr th:only-of-type {\n",
              "        vertical-align: middle;\n",
              "    }\n",
              "\n",
              "    .dataframe tbody tr th {\n",
              "        vertical-align: top;\n",
              "    }\n",
              "\n",
              "    .dataframe thead th {\n",
              "        text-align: right;\n",
              "    }\n",
              "</style>\n",
              "<table border=\"1\" class=\"dataframe\">\n",
              "  <thead>\n",
              "    <tr style=\"text-align: right;\">\n",
              "      <th></th>\n",
              "      <th>rating</th>\n",
              "      <th>date</th>\n",
              "      <th>variation</th>\n",
              "      <th>verified_reviews</th>\n",
              "      <th>feedback</th>\n",
              "    </tr>\n",
              "  </thead>\n",
              "  <tbody>\n",
              "    <tr>\n",
              "      <th>3145</th>\n",
              "      <td>5</td>\n",
              "      <td>30-Jul-18</td>\n",
              "      <td>Black  Dot</td>\n",
              "      <td>Perfect for kids, adults and everyone in betwe...</td>\n",
              "      <td>1</td>\n",
              "    </tr>\n",
              "    <tr>\n",
              "      <th>3146</th>\n",
              "      <td>5</td>\n",
              "      <td>30-Jul-18</td>\n",
              "      <td>Black  Dot</td>\n",
              "      <td>Listening to music, searching locations, check...</td>\n",
              "      <td>1</td>\n",
              "    </tr>\n",
              "    <tr>\n",
              "      <th>3147</th>\n",
              "      <td>5</td>\n",
              "      <td>30-Jul-18</td>\n",
              "      <td>Black  Dot</td>\n",
              "      <td>I do love these things, i have them running my...</td>\n",
              "      <td>1</td>\n",
              "    </tr>\n",
              "    <tr>\n",
              "      <th>3148</th>\n",
              "      <td>5</td>\n",
              "      <td>30-Jul-18</td>\n",
              "      <td>White  Dot</td>\n",
              "      <td>Only complaint I have is that the sound qualit...</td>\n",
              "      <td>1</td>\n",
              "    </tr>\n",
              "    <tr>\n",
              "      <th>3149</th>\n",
              "      <td>4</td>\n",
              "      <td>29-Jul-18</td>\n",
              "      <td>Black  Dot</td>\n",
              "      <td>Good</td>\n",
              "      <td>1</td>\n",
              "    </tr>\n",
              "  </tbody>\n",
              "</table>\n",
              "</div>"
            ],
            "text/plain": [
              "      rating  ... feedback\n",
              "3145       5  ...        1\n",
              "3146       5  ...        1\n",
              "3147       5  ...        1\n",
              "3148       5  ...        1\n",
              "3149       4  ...        1\n",
              "\n",
              "[5 rows x 5 columns]"
            ]
          },
          "metadata": {
            "tags": []
          },
          "execution_count": 103
        }
      ]
    },
    {
      "cell_type": "code",
      "metadata": {
        "id": "gTqssOZy1IL5",
        "colab_type": "code",
        "colab": {}
      },
      "source": [
        "df = df.drop(['rating','date','variation'],axis = 1)"
      ],
      "execution_count": 0,
      "outputs": []
    },
    {
      "cell_type": "code",
      "metadata": {
        "id": "mDCX7ZyG8iMy",
        "colab_type": "code",
        "colab": {
          "base_uri": "https://localhost:8080/",
          "height": 194
        },
        "outputId": "e62bad63-f9c1-4039-d6eb-c90f6c83cebb"
      },
      "source": [
        "df.head()"
      ],
      "execution_count": 105,
      "outputs": [
        {
          "output_type": "execute_result",
          "data": {
            "text/html": [
              "<div>\n",
              "<style scoped>\n",
              "    .dataframe tbody tr th:only-of-type {\n",
              "        vertical-align: middle;\n",
              "    }\n",
              "\n",
              "    .dataframe tbody tr th {\n",
              "        vertical-align: top;\n",
              "    }\n",
              "\n",
              "    .dataframe thead th {\n",
              "        text-align: right;\n",
              "    }\n",
              "</style>\n",
              "<table border=\"1\" class=\"dataframe\">\n",
              "  <thead>\n",
              "    <tr style=\"text-align: right;\">\n",
              "      <th></th>\n",
              "      <th>verified_reviews</th>\n",
              "      <th>feedback</th>\n",
              "    </tr>\n",
              "  </thead>\n",
              "  <tbody>\n",
              "    <tr>\n",
              "      <th>0</th>\n",
              "      <td>Love my Echo!</td>\n",
              "      <td>1</td>\n",
              "    </tr>\n",
              "    <tr>\n",
              "      <th>1</th>\n",
              "      <td>Loved it!</td>\n",
              "      <td>1</td>\n",
              "    </tr>\n",
              "    <tr>\n",
              "      <th>2</th>\n",
              "      <td>Sometimes while playing a game, you can answer...</td>\n",
              "      <td>1</td>\n",
              "    </tr>\n",
              "    <tr>\n",
              "      <th>3</th>\n",
              "      <td>I have had a lot of fun with this thing. My 4 ...</td>\n",
              "      <td>1</td>\n",
              "    </tr>\n",
              "    <tr>\n",
              "      <th>4</th>\n",
              "      <td>Music</td>\n",
              "      <td>1</td>\n",
              "    </tr>\n",
              "  </tbody>\n",
              "</table>\n",
              "</div>"
            ],
            "text/plain": [
              "                                    verified_reviews  feedback\n",
              "0                                      Love my Echo!         1\n",
              "1                                          Loved it!         1\n",
              "2  Sometimes while playing a game, you can answer...         1\n",
              "3  I have had a lot of fun with this thing. My 4 ...         1\n",
              "4                                              Music         1"
            ]
          },
          "metadata": {
            "tags": []
          },
          "execution_count": 105
        }
      ]
    },
    {
      "cell_type": "markdown",
      "metadata": {
        "id": "ATVihCYM9XIH",
        "colab_type": "text"
      },
      "source": [
        "# Pre Processing the Tweets"
      ]
    },
    {
      "cell_type": "code",
      "metadata": {
        "id": "TzPCfsuU9jUw",
        "colab_type": "code",
        "colab": {}
      },
      "source": [
        "#Define a Regex Pattern \n",
        "\n",
        "#Remove hashtags\n",
        "pat1= '#[^ ]+'\n",
        "#Remove webssites\n",
        "pat2 = 'www.[^ ]+'\n",
        "#Remove mentions\n",
        "pat3 = '@[^ ]+'\n",
        "#Remove Numbers\n",
        "pat4 = '[0-9]+'\n",
        "#Remove hyperlinks\n",
        "pat5 = 'http[^ ]+'\n",
        "negations_dic = {\"isn't\":\"is not\", \"aren't\":\"are not\", \"wasn't\":\"was not\", \"weren't\":\"were not\",   \n",
        "                \"haven't\":\"have not\",\"hasn't\":\"has not\",\"hadn't\":\"had not\",\"won't\":\"will not\",\n",
        "                \"wouldn't\":\"would not\", \"don't\":\"do not\", \"doesn't\":\"does not\",\"didn't\":\"did not\",\n",
        "                \"can't\":\"can not\",\"couldn't\":\"could not\",\"shouldn't\":\"should not\",\"mightn't\":\"might not\",\n",
        "                \"mustn't\":\"must not\"}\n",
        "\n",
        "\n",
        "pattern = '|'.join((pat1,pat2,pat3,pat4,pat5))\n",
        "neg_pattern = re.compile(r'\\b(' + '|'.join(negations_dic.keys()) + r')\\b')"
      ],
      "execution_count": 0,
      "outputs": []
    },
    {
      "cell_type": "code",
      "metadata": {
        "id": "y1BrmwiJG8mp",
        "colab_type": "code",
        "colab": {}
      },
      "source": [
        ""
      ],
      "execution_count": 0,
      "outputs": []
    },
    {
      "cell_type": "code",
      "metadata": {
        "id": "NFkRuHDv9mIS",
        "colab_type": "code",
        "colab": {
          "base_uri": "https://localhost:8080/",
          "height": 88
        },
        "outputId": "124d28d6-6ea0-4966-d375-71635aa11446"
      },
      "source": [
        "#Cleaning Data and removing Stop Words\n",
        "import nltk\n",
        "nltk.download('stopwords')\n",
        "nltk.download('punkt')\n",
        "  \n",
        "stop_words = stopwords.words('english')\n",
        "clean_tweets = []\n",
        "\n",
        "\n",
        "for t in df['verified_reviews']:\n",
        "    t.lower()\n",
        "    t = re.sub(pattern,'',t)\n",
        "    t = neg_pattern.sub(lambda x: negations_dic[x.group()], t)\n",
        "    t = word_tokenize(t)\n",
        "    t = [x for x in t if len(x) >1]\n",
        "    t = [x for x in t if x not in stop_words]\n",
        "    t = [x for x in t if x.isalpha()]\n",
        "    t = \" \".join(t)\n",
        "    t = re.sub(\"n't\",\"not\",t)\n",
        "    t = re.sub(\"'s\",\"is\",t)\n",
        "    clean_tweets.append(t)"
      ],
      "execution_count": 107,
      "outputs": [
        {
          "output_type": "stream",
          "text": [
            "[nltk_data] Downloading package stopwords to /root/nltk_data...\n",
            "[nltk_data]   Package stopwords is already up-to-date!\n",
            "[nltk_data] Downloading package punkt to /root/nltk_data...\n",
            "[nltk_data]   Package punkt is already up-to-date!\n"
          ],
          "name": "stdout"
        }
      ]
    },
    {
      "cell_type": "code",
      "metadata": {
        "id": "KLi-e3x99u6z",
        "colab_type": "code",
        "colab": {}
      },
      "source": [
        "# Making the Cleaned Version of the tweets:\n",
        "df_clean = pd.DataFrame(clean_tweets,columns = ['reviews'])\n",
        "df_clean['sentiment']=df['feedback']"
      ],
      "execution_count": 0,
      "outputs": []
    },
    {
      "cell_type": "code",
      "metadata": {
        "id": "0hXWkkVT-Mxq",
        "colab_type": "code",
        "colab": {
          "base_uri": "https://localhost:8080/",
          "height": 194
        },
        "outputId": "8c6c0c09-a331-4947-8247-66c2669f0185"
      },
      "source": [
        "df_clean.head()"
      ],
      "execution_count": 109,
      "outputs": [
        {
          "output_type": "execute_result",
          "data": {
            "text/html": [
              "<div>\n",
              "<style scoped>\n",
              "    .dataframe tbody tr th:only-of-type {\n",
              "        vertical-align: middle;\n",
              "    }\n",
              "\n",
              "    .dataframe tbody tr th {\n",
              "        vertical-align: top;\n",
              "    }\n",
              "\n",
              "    .dataframe thead th {\n",
              "        text-align: right;\n",
              "    }\n",
              "</style>\n",
              "<table border=\"1\" class=\"dataframe\">\n",
              "  <thead>\n",
              "    <tr style=\"text-align: right;\">\n",
              "      <th></th>\n",
              "      <th>reviews</th>\n",
              "      <th>sentiment</th>\n",
              "    </tr>\n",
              "  </thead>\n",
              "  <tbody>\n",
              "    <tr>\n",
              "      <th>0</th>\n",
              "      <td>Love Echo</td>\n",
              "      <td>1</td>\n",
              "    </tr>\n",
              "    <tr>\n",
              "      <th>1</th>\n",
              "      <td>Loved</td>\n",
              "      <td>1</td>\n",
              "    </tr>\n",
              "    <tr>\n",
              "      <th>2</th>\n",
              "      <td>Sometimes playing game answer question correct...</td>\n",
              "      <td>1</td>\n",
              "    </tr>\n",
              "    <tr>\n",
              "      <th>3</th>\n",
              "      <td>lot fun thing My yr old learns dinosaurs contr...</td>\n",
              "      <td>1</td>\n",
              "    </tr>\n",
              "    <tr>\n",
              "      <th>4</th>\n",
              "      <td>Music</td>\n",
              "      <td>1</td>\n",
              "    </tr>\n",
              "  </tbody>\n",
              "</table>\n",
              "</div>"
            ],
            "text/plain": [
              "                                             reviews  sentiment\n",
              "0                                          Love Echo          1\n",
              "1                                              Loved          1\n",
              "2  Sometimes playing game answer question correct...          1\n",
              "3  lot fun thing My yr old learns dinosaurs contr...          1\n",
              "4                                              Music          1"
            ]
          },
          "metadata": {
            "tags": []
          },
          "execution_count": 109
        }
      ]
    },
    {
      "cell_type": "code",
      "metadata": {
        "id": "kAsxCLJXfJXT",
        "colab_type": "code",
        "colab": {}
      },
      "source": [
        "text_body = ''\n",
        "for row in df_clean.iterrows():\n",
        "    text_body += row[1]['reviews'] + ' '\n",
        "    \n",
        "cleaned_text_body = re.sub('[^a-zA-Z]', ' ', text_body)\n",
        "word_list = nltk.tokenize.word_tokenize(cleaned_text_body.lower())\n",
        "word_set = set(word_list)"
      ],
      "execution_count": 0,
      "outputs": []
    },
    {
      "cell_type": "code",
      "metadata": {
        "id": "mYGPOJXHfZl2",
        "colab_type": "code",
        "colab": {
          "base_uri": "https://localhost:8080/",
          "height": 35
        },
        "outputId": "b5d93472-d9ec-44eb-b449-8b68bff211cc"
      },
      "source": [
        "len(word_set)"
      ],
      "execution_count": 111,
      "outputs": [
        {
          "output_type": "execute_result",
          "data": {
            "text/plain": [
              "3869"
            ]
          },
          "metadata": {
            "tags": []
          },
          "execution_count": 111
        }
      ]
    },
    {
      "cell_type": "code",
      "metadata": {
        "id": "pRkMPrfQf_tZ",
        "colab_type": "code",
        "colab": {}
      },
      "source": [
        "from keras.preprocessing.text import Tokenizer\n",
        "from keras.preprocessing.sequence import pad_sequences"
      ],
      "execution_count": 0,
      "outputs": []
    },
    {
      "cell_type": "code",
      "metadata": {
        "id": "quNNTLzAgBEN",
        "colab_type": "code",
        "colab": {
          "base_uri": "https://localhost:8080/",
          "height": 35
        },
        "outputId": "7cb8b477-0967-490a-f277-2b5ed0e5e6e6"
      },
      "source": [
        "tokenizer = Tokenizer(num_words=len(word_set))\n",
        "tokenizer.fit_on_texts([cleaned_text_body])\n",
        "print('Words in word_index:', len(tokenizer.word_index))"
      ],
      "execution_count": 113,
      "outputs": [
        {
          "output_type": "stream",
          "text": [
            "Words in word_index: 3869\n"
          ],
          "name": "stdout"
        }
      ]
    },
    {
      "cell_type": "code",
      "metadata": {
        "id": "Mn0APgaogHou",
        "colab_type": "code",
        "colab": {
          "base_uri": "https://localhost:8080/",
          "height": 212
        },
        "outputId": "a9872a3a-94a7-4404-b3d5-965363dec930"
      },
      "source": [
        "df_clean['sequences'] = df_clean['reviews'].apply(lambda x: tokenizer.texts_to_sequences([x])[0])\n",
        "df_clean['sequences'].head(10)"
      ],
      "execution_count": 114,
      "outputs": [
        {
          "output_type": "execute_result",
          "data": {
            "text/plain": [
              "0                                               [1, 2]\n",
              "1                                                [183]\n",
              "2    [213, 106, 1701, 247, 496, 667, 4, 336, 46, 49...\n",
              "3    [95, 41, 48, 59, 1386, 150, 774, 2447, 99, 69,...\n",
              "4                                                  [5]\n",
              "5    [390, 2, 148, 291, 85, 129, 151, 23, 5, 258, 1...\n",
              "6    [89, 1703, 8, 81, 116, 1185, 79, 8, 7, 556, 3,...\n",
              "7    [86, 1019, 11, 96, 107, 82, 11, 119, 49, 55, 2...\n",
              "8                                             [230, 3]\n",
              "9    [1, 1706, 177, 455, 178, 1707, 19, 139, 66, 18...\n",
              "Name: sequences, dtype: object"
            ]
          },
          "metadata": {
            "tags": []
          },
          "execution_count": 114
        }
      ]
    },
    {
      "cell_type": "code",
      "metadata": {
        "id": "MLbCzRYEg0CT",
        "colab_type": "code",
        "colab": {}
      },
      "source": [
        "# Need to know max_sequence_length to pad other sequences\n",
        "max_sequence_length = df_clean['sequences'].apply(lambda x: len(x)).max()\n",
        "df_clean['padded_sequences'] = df_clean['sequences'].apply(lambda x: pad_sequences([x], max_sequence_length)[0])"
      ],
      "execution_count": 0,
      "outputs": []
    },
    {
      "cell_type": "code",
      "metadata": {
        "id": "DaWo7mPUg-1L",
        "colab_type": "code",
        "colab": {
          "base_uri": "https://localhost:8080/",
          "height": 337
        },
        "outputId": "e4b895e7-c2af-487e-9eec-975a821d720a"
      },
      "source": [
        "print(df_clean['padded_sequences'][2])"
      ],
      "execution_count": 116,
      "outputs": [
        {
          "output_type": "stream",
          "text": [
            "[   0    0    0    0    0    0    0    0    0    0    0    0    0    0\n",
            "    0    0    0    0    0    0    0    0    0    0    0    0    0    0\n",
            "    0    0    0    0    0    0    0    0    0    0    0    0    0    0\n",
            "    0    0    0    0    0    0    0    0    0    0    0    0    0    0\n",
            "    0    0    0    0    0    0    0    0    0    0    0    0    0    0\n",
            "    0    0    0    0    0    0    0    0    0    0    0    0    0    0\n",
            "    0    0    0    0    0    0    0    0    0    0    0    0    0    0\n",
            "    0    0    0    0    0    0    0    0    0    0    0    0    0    0\n",
            "    0    0    0    0    0    0    0    0    0    0    0    0    0    0\n",
            "    0    0    0    0    0    0    0    0    0    0    0    0    0    0\n",
            "    0    0    0    0    0    0    0    0    0    0    0    0    0    0\n",
            "    0    0    0    0    0    0    0    0    0    0    0    0    0    0\n",
            "    0    0    0    0    0    0    0    0    0    0    0    0    0    0\n",
            "    0    0    0    0    0    0    0    0    0    0    0    0    0    0\n",
            "    0    0    0    0    0    0    0    0    0    0    0    0    0    0\n",
            "    0    0    0    0    0    0    0    0    0    0    0    0    0    0\n",
            "    0    0    0    0    0    0    0    0    0    0    0  213  106 1701\n",
            "  247  496  667    4  336   46  497  403    6   64   77   69  270   22]\n"
          ],
          "name": "stdout"
        }
      ]
    },
    {
      "cell_type": "code",
      "metadata": {
        "id": "au2Ki3qWk1-s",
        "colab_type": "code",
        "colab": {
          "base_uri": "https://localhost:8080/",
          "height": 35
        },
        "outputId": "11290075-d17a-44a4-ed0b-a204555ed462"
      },
      "source": [
        "train = df_clean.sample(frac=0.85)\n",
        "test_and_validation = df_clean.loc[~df_clean.index.isin(train.index)]\n",
        "validation = test_and_validation.sample(frac=0.5)\n",
        "test = test_and_validation.loc[~test_and_validation.index.isin(validation.index)]\n",
        "\n",
        "print(train.shape, validation.shape, test.shape)"
      ],
      "execution_count": 117,
      "outputs": [
        {
          "output_type": "stream",
          "text": [
            "(2678, 4) (236, 4) (236, 4)\n"
          ],
          "name": "stdout"
        }
      ]
    },
    {
      "cell_type": "code",
      "metadata": {
        "id": "81sxk_FrlGxE",
        "colab_type": "code",
        "colab": {}
      },
      "source": [
        "def get_arrayed_data(df_set):\n",
        "    setX = np.stack(df_set['padded_sequences'].values, axis=0)\n",
        "    setY = pd.get_dummies(df_set['sentiment']).values #using one-hot encoding\n",
        "    \n",
        "    return (setX, setY)\n",
        "\n",
        "trainX, trainY = get_arrayed_data(train)\n",
        "validationX, validationY = get_arrayed_data(validation)\n",
        "testX, testY = get_arrayed_data(test)"
      ],
      "execution_count": 0,
      "outputs": []
    },
    {
      "cell_type": "code",
      "metadata": {
        "id": "BPk0TyeGl-bi",
        "colab_type": "code",
        "colab": {
          "base_uri": "https://localhost:8080/",
          "height": 35
        },
        "outputId": "55636e2f-c4da-43f8-f155-d9013a61f1b0"
      },
      "source": [
        "print(trainX.shape)"
      ],
      "execution_count": 119,
      "outputs": [
        {
          "output_type": "stream",
          "text": [
            "(2678, 252)\n"
          ],
          "name": "stdout"
        }
      ]
    },
    {
      "cell_type": "code",
      "metadata": {
        "id": "HorrtMsf_5_E",
        "colab_type": "code",
        "colab": {}
      },
      "source": [
        "# #Tokenization\n",
        "\n",
        "# max_len = 200\n",
        "# max_features = 3700\n",
        "\n",
        "# tokenizer = Tokenizer(num_words=max_features)\n",
        "# tokenizer.fit_on_texts(x)\n",
        "\n",
        "# X = tokenizer.texts_to_sequences(x)\n",
        "# X = pad_sequences(X, maxlen=max_len)"
      ],
      "execution_count": 0,
      "outputs": []
    },
    {
      "cell_type": "code",
      "metadata": {
        "id": "311F1XcLYOIn",
        "colab_type": "code",
        "colab": {}
      },
      "source": [
        "# Split\n",
        "# X_train, X_test, y_train, y_test = train_test_split(X,Y, test_size=0.1, random_state=2019)"
      ],
      "execution_count": 0,
      "outputs": []
    },
    {
      "cell_type": "code",
      "metadata": {
        "id": "5memAjt-2QJs",
        "colab_type": "code",
        "colab": {}
      },
      "source": [
        "embeddings = {}\n",
        "f = open('/content/gdrive/My Drive/glove.6B.100d.txt', 'r', encoding = 'utf-8')\n",
        "for line in f:\n",
        "    values = line.split()\n",
        "    word = values[0]\n",
        "    vector = np.asarray(values[1:], dtype='float32')\n",
        "    embeddings[word] = vector\n",
        "f.close()"
      ],
      "execution_count": 0,
      "outputs": []
    },
    {
      "cell_type": "code",
      "metadata": {
        "id": "0RPm2shcmMv8",
        "colab_type": "code",
        "colab": {}
      },
      "source": [
        "from keras.layers import Embedding\n",
        "embedding_matrix = np.zeros((len(tokenizer.word_index) + 1, 100))\n",
        "for word, i in tokenizer.word_index.items():\n",
        "    # words that are not in pretrained embedding will be zero vectors.\n",
        "    if word in embeddings:\n",
        "        embedding_matrix[i] = embeddings[word]"
      ],
      "execution_count": 0,
      "outputs": []
    },
    {
      "cell_type": "code",
      "metadata": {
        "id": "c89DZGad5mLy",
        "colab_type": "code",
        "colab": {}
      },
      "source": [
        "embedding_layer = Embedding(len(tokenizer.word_index) + 1, 100,\n",
        "                            weights=[embedding_matrix],\n",
        "                            input_length=max_sequence_length,\n",
        "                            trainable=False)"
      ],
      "execution_count": 0,
      "outputs": []
    },
    {
      "cell_type": "code",
      "metadata": {
        "id": "tCwy-mov5t5n",
        "colab_type": "code",
        "colab": {}
      },
      "source": [
        "from keras.models import Sequential\n",
        "from keras.layers import Dense, Input, LSTM, Flatten, Dropout"
      ],
      "execution_count": 0,
      "outputs": []
    },
    {
      "cell_type": "code",
      "metadata": {
        "id": "hSqDbdEc58rh",
        "colab_type": "code",
        "colab": {}
      },
      "source": [
        "def simple_reccurent_model(input_shape, output_shape):\n",
        "    model = Sequential()\n",
        "    model.add(embedding_layer)\n",
        "    model.add(LSTM(64, dropout=0.2))\n",
        "    #model.add(Flatten())\n",
        "    model.add(Dense(64, activation='relu'))\n",
        "    model.add(Dense(output_shape, activation='softmax'))\n",
        "    return model"
      ],
      "execution_count": 0,
      "outputs": []
    },
    {
      "cell_type": "code",
      "metadata": {
        "id": "n6Vzb09x6BUJ",
        "colab_type": "code",
        "colab": {}
      },
      "source": [
        "model = simple_reccurent_model(trainX.shape[1], trainY.shape[1])\n",
        "model.compile(loss='categorical_crossentropy', optimizer='adam',metrics=['accuracy'])"
      ],
      "execution_count": 0,
      "outputs": []
    },
    {
      "cell_type": "code",
      "metadata": {
        "id": "lLoKZTLz6JBb",
        "colab_type": "code",
        "colab": {
          "base_uri": "https://localhost:8080/",
          "height": 301
        },
        "outputId": "4b84a22c-53e9-4bb8-d579-e847776c34d4"
      },
      "source": [
        "model.summary()"
      ],
      "execution_count": 128,
      "outputs": [
        {
          "output_type": "stream",
          "text": [
            "Model: \"sequential_12\"\n",
            "_________________________________________________________________\n",
            "Layer (type)                 Output Shape              Param #   \n",
            "=================================================================\n",
            "embedding_12 (Embedding)     (None, 252, 100)          387000    \n",
            "_________________________________________________________________\n",
            "lstm_17 (LSTM)               (None, 64)                42240     \n",
            "_________________________________________________________________\n",
            "dense_10 (Dense)             (None, 64)                4160      \n",
            "_________________________________________________________________\n",
            "dense_11 (Dense)             (None, 2)                 130       \n",
            "=================================================================\n",
            "Total params: 433,530\n",
            "Trainable params: 46,530\n",
            "Non-trainable params: 387,000\n",
            "_________________________________________________________________\n"
          ],
          "name": "stdout"
        }
      ]
    },
    {
      "cell_type": "code",
      "metadata": {
        "id": "0oW6j8t-6XgA",
        "colab_type": "code",
        "colab": {
          "base_uri": "https://localhost:8080/",
          "height": 746
        },
        "outputId": "fe77e787-24a3-47cb-8c3e-348154343904"
      },
      "source": [
        "model.fit(trainX, trainY, batch_size=64, epochs=20)"
      ],
      "execution_count": 129,
      "outputs": [
        {
          "output_type": "stream",
          "text": [
            "Epoch 1/20\n",
            "2678/2678 [==============================] - 18s 7ms/step - loss: 0.3335 - acc: 0.9100\n",
            "Epoch 2/20\n",
            "2678/2678 [==============================] - 17s 6ms/step - loss: 0.2512 - acc: 0.9175\n",
            "Epoch 3/20\n",
            "2678/2678 [==============================] - 17s 6ms/step - loss: 0.2190 - acc: 0.9182\n",
            "Epoch 4/20\n",
            "2678/2678 [==============================] - 17s 6ms/step - loss: 0.2004 - acc: 0.9238\n",
            "Epoch 5/20\n",
            "2678/2678 [==============================] - 17s 6ms/step - loss: 0.1953 - acc: 0.9253\n",
            "Epoch 6/20\n",
            "2678/2678 [==============================] - 17s 6ms/step - loss: 0.1874 - acc: 0.9272\n",
            "Epoch 7/20\n",
            "2678/2678 [==============================] - 17s 6ms/step - loss: 0.1822 - acc: 0.9253\n",
            "Epoch 8/20\n",
            "2678/2678 [==============================] - 17s 6ms/step - loss: 0.1722 - acc: 0.9272\n",
            "Epoch 9/20\n",
            "2678/2678 [==============================] - 17s 6ms/step - loss: 0.1584 - acc: 0.9358\n",
            "Epoch 10/20\n",
            "2678/2678 [==============================] - 17s 6ms/step - loss: 0.1487 - acc: 0.9354\n",
            "Epoch 11/20\n",
            "2678/2678 [==============================] - 17s 6ms/step - loss: 0.1419 - acc: 0.9425\n",
            "Epoch 12/20\n",
            "2678/2678 [==============================] - 17s 6ms/step - loss: 0.1323 - acc: 0.9429\n",
            "Epoch 13/20\n",
            "2678/2678 [==============================] - 17s 6ms/step - loss: 0.1195 - acc: 0.9503\n",
            "Epoch 14/20\n",
            "2678/2678 [==============================] - 17s 6ms/step - loss: 0.1119 - acc: 0.9574\n",
            "Epoch 15/20\n",
            "2678/2678 [==============================] - 17s 6ms/step - loss: 0.1069 - acc: 0.9567\n",
            "Epoch 16/20\n",
            "2678/2678 [==============================] - 17s 6ms/step - loss: 0.0878 - acc: 0.9649\n",
            "Epoch 17/20\n",
            "2678/2678 [==============================] - 17s 6ms/step - loss: 0.0897 - acc: 0.9645\n",
            "Epoch 18/20\n",
            "2678/2678 [==============================] - 17s 6ms/step - loss: 0.0706 - acc: 0.9735\n",
            "Epoch 19/20\n",
            "2678/2678 [==============================] - 17s 6ms/step - loss: 0.0691 - acc: 0.9716\n",
            "Epoch 20/20\n",
            "2678/2678 [==============================] - 17s 6ms/step - loss: 0.0539 - acc: 0.9817\n"
          ],
          "name": "stdout"
        },
        {
          "output_type": "execute_result",
          "data": {
            "text/plain": [
              "<keras.callbacks.History at 0x7fdfd65f8e48>"
            ]
          },
          "metadata": {
            "tags": []
          },
          "execution_count": 129
        }
      ]
    },
    {
      "cell_type": "code",
      "metadata": {
        "id": "20WXB9VQZQHH",
        "colab_type": "code",
        "colab": {
          "base_uri": "https://localhost:8080/",
          "height": 52
        },
        "outputId": "5134f608-62b6-45f2-da4e-6f8059d74dfc"
      },
      "source": [
        "score, accuracy = model.evaluate(validationX, validationY, batch_size=64)\n",
        "print(accuracy)"
      ],
      "execution_count": 130,
      "outputs": [
        {
          "output_type": "stream",
          "text": [
            "236/236 [==============================] - 1s 4ms/step\n",
            "0.9618644108206539\n"
          ],
          "name": "stdout"
        }
      ]
    }
  ]
}