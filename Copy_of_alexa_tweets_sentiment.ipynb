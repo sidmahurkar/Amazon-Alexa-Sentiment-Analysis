{
  "nbformat": 4,
  "nbformat_minor": 0,
  "metadata": {
    "colab": {
      "name": "Copy of alexa tweets sentiment.ipynb",
      "provenance": [],
      "include_colab_link": true
    },
    "kernelspec": {
      "name": "python3",
      "display_name": "Python 3"
    },
    "accelerator": "GPU"
  },
  "cells": [
    {
      "cell_type": "markdown",
      "metadata": {
        "id": "view-in-github",
        "colab_type": "text"
      },
      "source": [
        "<a href=\"https://colab.research.google.com/github/sidmahurkar/Amazon-Alexa-Sentiment-Analysis/blob/master/Copy_of_alexa_tweets_sentiment.ipynb\" target=\"_parent\"><img src=\"https://colab.research.google.com/assets/colab-badge.svg\" alt=\"Open In Colab\"/></a>"
      ]
    },
    {
      "cell_type": "code",
      "metadata": {
        "id": "vSR0SLCW0UsN",
        "colab_type": "code",
        "colab": {
          "base_uri": "https://localhost:8080/",
          "height": 35
        },
        "outputId": "da026b45-552a-44de-b73c-c38060aa3e29"
      },
      "source": [
        "# Importing Important Libraries\n",
        "import io\n",
        "import os\n",
        "import json\n",
        "import pandas as pd\n",
        "import numpy as np\n",
        "import re\n",
        "from nltk import word_tokenize\n",
        "import matplotlib.pyplot as plt\n",
        "from sklearn.model_selection import train_test_split\n",
        "\n",
        "from keras.models import Sequential\n",
        "from keras.layers import Dense, Dropout, LSTM, Embedding\n",
        "from keras.preprocessing.text import Tokenizer\n",
        "from keras.preprocessing.sequence import pad_sequences\n",
        "from nltk.corpus import stopwords\n",
        "\n",
        "from keras.layers import SimpleRNN,LSTM,CuDNNGRU,CuDNNLSTM,Conv1D,MaxPooling1D,Dropout\n",
        "from keras import regularizers\n",
        "from keras.layers import BatchNormalization\n",
        "from keras import optimizers\n",
        "from keras import initializers\n",
        "\n",
        "from keras.callbacks import *\n",
        "from keras import backend as K\n",
        "import keras\n",
        "from keras.callbacks import *\n",
        "from keras.optimizers import Adam "
      ],
      "execution_count": 1,
      "outputs": [
        {
          "output_type": "stream",
          "text": [
            "Using TensorFlow backend.\n"
          ],
          "name": "stderr"
        }
      ]
    },
    {
      "cell_type": "code",
      "metadata": {
        "id": "W0GDNPVMx5C8",
        "colab_type": "code",
        "outputId": "4d69895c-ab0b-4650-b98e-fb90cb845e32",
        "colab": {
          "base_uri": "https://localhost:8080/",
          "height": 126
        }
      },
      "source": [
        "from google.colab import drive\n",
        "drive.mount('/content/gdrive')"
      ],
      "execution_count": 2,
      "outputs": [
        {
          "output_type": "stream",
          "text": [
            "Go to this URL in a browser: https://accounts.google.com/o/oauth2/auth?client_id=947318989803-6bn6qk8qdgf4n4g3pfee6491hc0brc4i.apps.googleusercontent.com&redirect_uri=urn%3aietf%3awg%3aoauth%3a2.0%3aoob&response_type=code&scope=email%20https%3a%2f%2fwww.googleapis.com%2fauth%2fdocs.test%20https%3a%2f%2fwww.googleapis.com%2fauth%2fdrive%20https%3a%2f%2fwww.googleapis.com%2fauth%2fdrive.photos.readonly%20https%3a%2f%2fwww.googleapis.com%2fauth%2fpeopleapi.readonly\n",
            "\n",
            "Enter your authorization code:\n",
            "··········\n",
            "Mounted at /content/gdrive\n"
          ],
          "name": "stdout"
        }
      ]
    },
    {
      "cell_type": "code",
      "metadata": {
        "id": "ySy1wszyzLdZ",
        "colab_type": "code",
        "colab": {}
      },
      "source": [
        "df = pd.read_csv('/content/gdrive/My Drive/amazon_alexa.tsv',encoding='utf-8',sep='\\t')"
      ],
      "execution_count": 0,
      "outputs": []
    },
    {
      "cell_type": "code",
      "metadata": {
        "id": "A1BU7_FGz-r8",
        "colab_type": "code",
        "outputId": "d069cb5b-2fab-4871-8bcf-11f2c299bbe0",
        "colab": {
          "base_uri": "https://localhost:8080/",
          "height": 194
        }
      },
      "source": [
        "df.head()"
      ],
      "execution_count": 5,
      "outputs": [
        {
          "output_type": "execute_result",
          "data": {
            "text/html": [
              "<div>\n",
              "<style scoped>\n",
              "    .dataframe tbody tr th:only-of-type {\n",
              "        vertical-align: middle;\n",
              "    }\n",
              "\n",
              "    .dataframe tbody tr th {\n",
              "        vertical-align: top;\n",
              "    }\n",
              "\n",
              "    .dataframe thead th {\n",
              "        text-align: right;\n",
              "    }\n",
              "</style>\n",
              "<table border=\"1\" class=\"dataframe\">\n",
              "  <thead>\n",
              "    <tr style=\"text-align: right;\">\n",
              "      <th></th>\n",
              "      <th>rating</th>\n",
              "      <th>date</th>\n",
              "      <th>variation</th>\n",
              "      <th>verified_reviews</th>\n",
              "      <th>feedback</th>\n",
              "    </tr>\n",
              "  </thead>\n",
              "  <tbody>\n",
              "    <tr>\n",
              "      <th>0</th>\n",
              "      <td>5</td>\n",
              "      <td>31-Jul-18</td>\n",
              "      <td>Charcoal Fabric</td>\n",
              "      <td>Love my Echo!</td>\n",
              "      <td>1</td>\n",
              "    </tr>\n",
              "    <tr>\n",
              "      <th>1</th>\n",
              "      <td>5</td>\n",
              "      <td>31-Jul-18</td>\n",
              "      <td>Charcoal Fabric</td>\n",
              "      <td>Loved it!</td>\n",
              "      <td>1</td>\n",
              "    </tr>\n",
              "    <tr>\n",
              "      <th>2</th>\n",
              "      <td>4</td>\n",
              "      <td>31-Jul-18</td>\n",
              "      <td>Walnut Finish</td>\n",
              "      <td>Sometimes while playing a game, you can answer...</td>\n",
              "      <td>1</td>\n",
              "    </tr>\n",
              "    <tr>\n",
              "      <th>3</th>\n",
              "      <td>5</td>\n",
              "      <td>31-Jul-18</td>\n",
              "      <td>Charcoal Fabric</td>\n",
              "      <td>I have had a lot of fun with this thing. My 4 ...</td>\n",
              "      <td>1</td>\n",
              "    </tr>\n",
              "    <tr>\n",
              "      <th>4</th>\n",
              "      <td>5</td>\n",
              "      <td>31-Jul-18</td>\n",
              "      <td>Charcoal Fabric</td>\n",
              "      <td>Music</td>\n",
              "      <td>1</td>\n",
              "    </tr>\n",
              "  </tbody>\n",
              "</table>\n",
              "</div>"
            ],
            "text/plain": [
              "   rating  ... feedback\n",
              "0       5  ...        1\n",
              "1       5  ...        1\n",
              "2       4  ...        1\n",
              "3       5  ...        1\n",
              "4       5  ...        1\n",
              "\n",
              "[5 rows x 5 columns]"
            ]
          },
          "metadata": {
            "tags": []
          },
          "execution_count": 5
        }
      ]
    },
    {
      "cell_type": "code",
      "metadata": {
        "id": "chlfRlro0JEk",
        "colab_type": "code",
        "outputId": "872e528f-bcf9-4a67-c307-c3e4c99c6afd",
        "colab": {
          "base_uri": "https://localhost:8080/",
          "height": 194
        }
      },
      "source": [
        "df.tail()"
      ],
      "execution_count": 6,
      "outputs": [
        {
          "output_type": "execute_result",
          "data": {
            "text/html": [
              "<div>\n",
              "<style scoped>\n",
              "    .dataframe tbody tr th:only-of-type {\n",
              "        vertical-align: middle;\n",
              "    }\n",
              "\n",
              "    .dataframe tbody tr th {\n",
              "        vertical-align: top;\n",
              "    }\n",
              "\n",
              "    .dataframe thead th {\n",
              "        text-align: right;\n",
              "    }\n",
              "</style>\n",
              "<table border=\"1\" class=\"dataframe\">\n",
              "  <thead>\n",
              "    <tr style=\"text-align: right;\">\n",
              "      <th></th>\n",
              "      <th>rating</th>\n",
              "      <th>date</th>\n",
              "      <th>variation</th>\n",
              "      <th>verified_reviews</th>\n",
              "      <th>feedback</th>\n",
              "    </tr>\n",
              "  </thead>\n",
              "  <tbody>\n",
              "    <tr>\n",
              "      <th>3145</th>\n",
              "      <td>5</td>\n",
              "      <td>30-Jul-18</td>\n",
              "      <td>Black  Dot</td>\n",
              "      <td>Perfect for kids, adults and everyone in betwe...</td>\n",
              "      <td>1</td>\n",
              "    </tr>\n",
              "    <tr>\n",
              "      <th>3146</th>\n",
              "      <td>5</td>\n",
              "      <td>30-Jul-18</td>\n",
              "      <td>Black  Dot</td>\n",
              "      <td>Listening to music, searching locations, check...</td>\n",
              "      <td>1</td>\n",
              "    </tr>\n",
              "    <tr>\n",
              "      <th>3147</th>\n",
              "      <td>5</td>\n",
              "      <td>30-Jul-18</td>\n",
              "      <td>Black  Dot</td>\n",
              "      <td>I do love these things, i have them running my...</td>\n",
              "      <td>1</td>\n",
              "    </tr>\n",
              "    <tr>\n",
              "      <th>3148</th>\n",
              "      <td>5</td>\n",
              "      <td>30-Jul-18</td>\n",
              "      <td>White  Dot</td>\n",
              "      <td>Only complaint I have is that the sound qualit...</td>\n",
              "      <td>1</td>\n",
              "    </tr>\n",
              "    <tr>\n",
              "      <th>3149</th>\n",
              "      <td>4</td>\n",
              "      <td>29-Jul-18</td>\n",
              "      <td>Black  Dot</td>\n",
              "      <td>Good</td>\n",
              "      <td>1</td>\n",
              "    </tr>\n",
              "  </tbody>\n",
              "</table>\n",
              "</div>"
            ],
            "text/plain": [
              "      rating  ... feedback\n",
              "3145       5  ...        1\n",
              "3146       5  ...        1\n",
              "3147       5  ...        1\n",
              "3148       5  ...        1\n",
              "3149       4  ...        1\n",
              "\n",
              "[5 rows x 5 columns]"
            ]
          },
          "metadata": {
            "tags": []
          },
          "execution_count": 6
        }
      ]
    },
    {
      "cell_type": "code",
      "metadata": {
        "id": "gTqssOZy1IL5",
        "colab_type": "code",
        "colab": {}
      },
      "source": [
        "df = df.drop(['rating','date','variation'],axis = 1)"
      ],
      "execution_count": 0,
      "outputs": []
    },
    {
      "cell_type": "code",
      "metadata": {
        "id": "mDCX7ZyG8iMy",
        "colab_type": "code",
        "outputId": "3d8e1e8d-b21f-4253-ce21-97fa5a8d9931",
        "colab": {
          "base_uri": "https://localhost:8080/",
          "height": 194
        }
      },
      "source": [
        "df.head()"
      ],
      "execution_count": 8,
      "outputs": [
        {
          "output_type": "execute_result",
          "data": {
            "text/html": [
              "<div>\n",
              "<style scoped>\n",
              "    .dataframe tbody tr th:only-of-type {\n",
              "        vertical-align: middle;\n",
              "    }\n",
              "\n",
              "    .dataframe tbody tr th {\n",
              "        vertical-align: top;\n",
              "    }\n",
              "\n",
              "    .dataframe thead th {\n",
              "        text-align: right;\n",
              "    }\n",
              "</style>\n",
              "<table border=\"1\" class=\"dataframe\">\n",
              "  <thead>\n",
              "    <tr style=\"text-align: right;\">\n",
              "      <th></th>\n",
              "      <th>verified_reviews</th>\n",
              "      <th>feedback</th>\n",
              "    </tr>\n",
              "  </thead>\n",
              "  <tbody>\n",
              "    <tr>\n",
              "      <th>0</th>\n",
              "      <td>Love my Echo!</td>\n",
              "      <td>1</td>\n",
              "    </tr>\n",
              "    <tr>\n",
              "      <th>1</th>\n",
              "      <td>Loved it!</td>\n",
              "      <td>1</td>\n",
              "    </tr>\n",
              "    <tr>\n",
              "      <th>2</th>\n",
              "      <td>Sometimes while playing a game, you can answer...</td>\n",
              "      <td>1</td>\n",
              "    </tr>\n",
              "    <tr>\n",
              "      <th>3</th>\n",
              "      <td>I have had a lot of fun with this thing. My 4 ...</td>\n",
              "      <td>1</td>\n",
              "    </tr>\n",
              "    <tr>\n",
              "      <th>4</th>\n",
              "      <td>Music</td>\n",
              "      <td>1</td>\n",
              "    </tr>\n",
              "  </tbody>\n",
              "</table>\n",
              "</div>"
            ],
            "text/plain": [
              "                                    verified_reviews  feedback\n",
              "0                                      Love my Echo!         1\n",
              "1                                          Loved it!         1\n",
              "2  Sometimes while playing a game, you can answer...         1\n",
              "3  I have had a lot of fun with this thing. My 4 ...         1\n",
              "4                                              Music         1"
            ]
          },
          "metadata": {
            "tags": []
          },
          "execution_count": 8
        }
      ]
    },
    {
      "cell_type": "markdown",
      "metadata": {
        "id": "ATVihCYM9XIH",
        "colab_type": "text"
      },
      "source": [
        "# Pre Processing the Tweets"
      ]
    },
    {
      "cell_type": "code",
      "metadata": {
        "id": "TzPCfsuU9jUw",
        "colab_type": "code",
        "colab": {}
      },
      "source": [
        "#Define a Regex Pattern \n",
        "\n",
        "#Remove hashtags\n",
        "pat1= '#[^ ]+'\n",
        "#Remove webssites\n",
        "pat2 = 'www.[^ ]+'\n",
        "#Remove mentions\n",
        "pat3 = '@[^ ]+'\n",
        "#Remove Numbers\n",
        "pat4 = '[0-9]+'\n",
        "#Remove hyperlinks\n",
        "pat5 = 'http[^ ]+'\n",
        "negations_dic = {\"isn't\":\"is not\", \"aren't\":\"are not\", \"wasn't\":\"was not\", \"weren't\":\"were not\",   \n",
        "                \"haven't\":\"have not\",\"hasn't\":\"has not\",\"hadn't\":\"had not\",\"won't\":\"will not\",\n",
        "                \"wouldn't\":\"would not\", \"don't\":\"do not\", \"doesn't\":\"does not\",\"didn't\":\"did not\",\n",
        "                \"can't\":\"can not\",\"couldn't\":\"could not\",\"shouldn't\":\"should not\",\"mightn't\":\"might not\",\n",
        "                \"mustn't\":\"must not\"}\n",
        "\n",
        "\n",
        "pattern = '|'.join((pat1,pat2,pat3,pat4,pat5))\n",
        "neg_pattern = re.compile(r'\\b(' + '|'.join(negations_dic.keys()) + r')\\b')"
      ],
      "execution_count": 0,
      "outputs": []
    },
    {
      "cell_type": "code",
      "metadata": {
        "id": "y1BrmwiJG8mp",
        "colab_type": "code",
        "colab": {}
      },
      "source": [
        ""
      ],
      "execution_count": 0,
      "outputs": []
    },
    {
      "cell_type": "code",
      "metadata": {
        "id": "NFkRuHDv9mIS",
        "colab_type": "code",
        "outputId": "552a6dfe-11b8-45b5-d50d-4fb4a3f4e86e",
        "colab": {
          "base_uri": "https://localhost:8080/",
          "height": 88
        }
      },
      "source": [
        "#Cleaning Data and removing Stop Words\n",
        "import nltk\n",
        "nltk.download('stopwords')\n",
        "nltk.download('punkt')\n",
        "  \n",
        "stop_words = stopwords.words('english')\n",
        "clean_tweets = []\n",
        "\n",
        "\n",
        "for t in df['verified_reviews']:\n",
        "    t.lower()\n",
        "    t = re.sub(pattern,'',t)\n",
        "    t = neg_pattern.sub(lambda x: negations_dic[x.group()], t)\n",
        "    t = word_tokenize(t)\n",
        "    t = [x for x in t if len(x) >1]\n",
        "    t = [x for x in t if x not in stop_words]\n",
        "    t = [x for x in t if x.isalpha()]\n",
        "    t = \" \".join(t)\n",
        "    t = re.sub(\"n't\",\"not\",t)\n",
        "    t = re.sub(\"'s\",\"is\",t)\n",
        "    clean_tweets.append(t)"
      ],
      "execution_count": 10,
      "outputs": [
        {
          "output_type": "stream",
          "text": [
            "[nltk_data] Downloading package stopwords to /root/nltk_data...\n",
            "[nltk_data]   Unzipping corpora/stopwords.zip.\n",
            "[nltk_data] Downloading package punkt to /root/nltk_data...\n",
            "[nltk_data]   Unzipping tokenizers/punkt.zip.\n"
          ],
          "name": "stdout"
        }
      ]
    },
    {
      "cell_type": "code",
      "metadata": {
        "id": "KLi-e3x99u6z",
        "colab_type": "code",
        "colab": {}
      },
      "source": [
        "# Making the Cleaned Version of the tweets:\n",
        "df_clean = pd.DataFrame(clean_tweets,columns = ['reviews'])\n",
        "df_clean['sentiment']=df['feedback']"
      ],
      "execution_count": 0,
      "outputs": []
    },
    {
      "cell_type": "code",
      "metadata": {
        "id": "0hXWkkVT-Mxq",
        "colab_type": "code",
        "outputId": "a740d145-641c-4b1d-ea98-e8fed5ff228c",
        "colab": {
          "base_uri": "https://localhost:8080/",
          "height": 194
        }
      },
      "source": [
        "df_clean.head()"
      ],
      "execution_count": 12,
      "outputs": [
        {
          "output_type": "execute_result",
          "data": {
            "text/html": [
              "<div>\n",
              "<style scoped>\n",
              "    .dataframe tbody tr th:only-of-type {\n",
              "        vertical-align: middle;\n",
              "    }\n",
              "\n",
              "    .dataframe tbody tr th {\n",
              "        vertical-align: top;\n",
              "    }\n",
              "\n",
              "    .dataframe thead th {\n",
              "        text-align: right;\n",
              "    }\n",
              "</style>\n",
              "<table border=\"1\" class=\"dataframe\">\n",
              "  <thead>\n",
              "    <tr style=\"text-align: right;\">\n",
              "      <th></th>\n",
              "      <th>reviews</th>\n",
              "      <th>sentiment</th>\n",
              "    </tr>\n",
              "  </thead>\n",
              "  <tbody>\n",
              "    <tr>\n",
              "      <th>0</th>\n",
              "      <td>Love Echo</td>\n",
              "      <td>1</td>\n",
              "    </tr>\n",
              "    <tr>\n",
              "      <th>1</th>\n",
              "      <td>Loved</td>\n",
              "      <td>1</td>\n",
              "    </tr>\n",
              "    <tr>\n",
              "      <th>2</th>\n",
              "      <td>Sometimes playing game answer question correct...</td>\n",
              "      <td>1</td>\n",
              "    </tr>\n",
              "    <tr>\n",
              "      <th>3</th>\n",
              "      <td>lot fun thing My yr old learns dinosaurs contr...</td>\n",
              "      <td>1</td>\n",
              "    </tr>\n",
              "    <tr>\n",
              "      <th>4</th>\n",
              "      <td>Music</td>\n",
              "      <td>1</td>\n",
              "    </tr>\n",
              "  </tbody>\n",
              "</table>\n",
              "</div>"
            ],
            "text/plain": [
              "                                             reviews  sentiment\n",
              "0                                          Love Echo          1\n",
              "1                                              Loved          1\n",
              "2  Sometimes playing game answer question correct...          1\n",
              "3  lot fun thing My yr old learns dinosaurs contr...          1\n",
              "4                                              Music          1"
            ]
          },
          "metadata": {
            "tags": []
          },
          "execution_count": 12
        }
      ]
    },
    {
      "cell_type": "code",
      "metadata": {
        "id": "kAsxCLJXfJXT",
        "colab_type": "code",
        "colab": {}
      },
      "source": [
        "text_body = ''\n",
        "for row in df_clean.iterrows():\n",
        "    text_body += row[1]['reviews'] + ' '\n",
        "    \n",
        "cleaned_text_body = re.sub('[^a-zA-Z]', ' ', text_body)\n",
        "word_list = nltk.tokenize.word_tokenize(cleaned_text_body.lower())\n",
        "word_set = set(word_list)"
      ],
      "execution_count": 0,
      "outputs": []
    },
    {
      "cell_type": "code",
      "metadata": {
        "id": "mYGPOJXHfZl2",
        "colab_type": "code",
        "outputId": "fba81e9e-0165-456f-89e4-0792be3f7f95",
        "colab": {
          "base_uri": "https://localhost:8080/",
          "height": 35
        }
      },
      "source": [
        "len(word_set)"
      ],
      "execution_count": 14,
      "outputs": [
        {
          "output_type": "execute_result",
          "data": {
            "text/plain": [
              "3869"
            ]
          },
          "metadata": {
            "tags": []
          },
          "execution_count": 14
        }
      ]
    },
    {
      "cell_type": "code",
      "metadata": {
        "id": "pRkMPrfQf_tZ",
        "colab_type": "code",
        "colab": {}
      },
      "source": [
        "from keras.preprocessing.text import Tokenizer\n",
        "from keras.preprocessing.sequence import pad_sequences"
      ],
      "execution_count": 0,
      "outputs": []
    },
    {
      "cell_type": "code",
      "metadata": {
        "id": "quNNTLzAgBEN",
        "colab_type": "code",
        "outputId": "5c0f72f2-34ba-4370-c71d-5d4113391f59",
        "colab": {
          "base_uri": "https://localhost:8080/",
          "height": 35
        }
      },
      "source": [
        "tokenizer = Tokenizer(num_words=len(word_set))\n",
        "tokenizer.fit_on_texts([cleaned_text_body])\n",
        "print('Words in word_index:', len(tokenizer.word_index))"
      ],
      "execution_count": 16,
      "outputs": [
        {
          "output_type": "stream",
          "text": [
            "Words in word_index: 3869\n"
          ],
          "name": "stdout"
        }
      ]
    },
    {
      "cell_type": "code",
      "metadata": {
        "id": "Mn0APgaogHou",
        "colab_type": "code",
        "outputId": "ea1000ba-9103-487a-86ad-24737ae28f77",
        "colab": {
          "base_uri": "https://localhost:8080/",
          "height": 212
        }
      },
      "source": [
        "df_clean['sequences'] = df_clean['reviews'].apply(lambda x: tokenizer.texts_to_sequences([x])[0])\n",
        "df_clean['sequences'].head(10)"
      ],
      "execution_count": 17,
      "outputs": [
        {
          "output_type": "execute_result",
          "data": {
            "text/plain": [
              "0                                               [1, 2]\n",
              "1                                                [183]\n",
              "2    [213, 106, 1701, 247, 496, 667, 4, 336, 46, 49...\n",
              "3    [95, 41, 48, 59, 1386, 150, 774, 2447, 99, 69,...\n",
              "4                                                  [5]\n",
              "5    [390, 2, 148, 291, 85, 129, 151, 23, 5, 258, 1...\n",
              "6    [89, 1703, 8, 81, 116, 1185, 79, 8, 7, 556, 3,...\n",
              "7    [86, 1019, 11, 96, 107, 82, 11, 119, 49, 55, 2...\n",
              "8                                             [230, 3]\n",
              "9    [1, 1706, 177, 455, 178, 1707, 19, 139, 66, 18...\n",
              "Name: sequences, dtype: object"
            ]
          },
          "metadata": {
            "tags": []
          },
          "execution_count": 17
        }
      ]
    },
    {
      "cell_type": "code",
      "metadata": {
        "id": "MLbCzRYEg0CT",
        "colab_type": "code",
        "colab": {}
      },
      "source": [
        "# Need to know max_sequence_length to pad other sequences\n",
        "max_sequence_length = df_clean['sequences'].apply(lambda x: len(x)).max()\n",
        "df_clean['padded_sequences'] = df_clean['sequences'].apply(lambda x: pad_sequences([x], max_sequence_length)[0])"
      ],
      "execution_count": 0,
      "outputs": []
    },
    {
      "cell_type": "code",
      "metadata": {
        "id": "DaWo7mPUg-1L",
        "colab_type": "code",
        "outputId": "f4fa9956-0e32-44ae-a182-a8300b32c27c",
        "colab": {
          "base_uri": "https://localhost:8080/",
          "height": 337
        }
      },
      "source": [
        "print(df_clean['padded_sequences'][2])"
      ],
      "execution_count": 19,
      "outputs": [
        {
          "output_type": "stream",
          "text": [
            "[   0    0    0    0    0    0    0    0    0    0    0    0    0    0\n",
            "    0    0    0    0    0    0    0    0    0    0    0    0    0    0\n",
            "    0    0    0    0    0    0    0    0    0    0    0    0    0    0\n",
            "    0    0    0    0    0    0    0    0    0    0    0    0    0    0\n",
            "    0    0    0    0    0    0    0    0    0    0    0    0    0    0\n",
            "    0    0    0    0    0    0    0    0    0    0    0    0    0    0\n",
            "    0    0    0    0    0    0    0    0    0    0    0    0    0    0\n",
            "    0    0    0    0    0    0    0    0    0    0    0    0    0    0\n",
            "    0    0    0    0    0    0    0    0    0    0    0    0    0    0\n",
            "    0    0    0    0    0    0    0    0    0    0    0    0    0    0\n",
            "    0    0    0    0    0    0    0    0    0    0    0    0    0    0\n",
            "    0    0    0    0    0    0    0    0    0    0    0    0    0    0\n",
            "    0    0    0    0    0    0    0    0    0    0    0    0    0    0\n",
            "    0    0    0    0    0    0    0    0    0    0    0    0    0    0\n",
            "    0    0    0    0    0    0    0    0    0    0    0    0    0    0\n",
            "    0    0    0    0    0    0    0    0    0    0    0    0    0    0\n",
            "    0    0    0    0    0    0    0    0    0    0    0  213  106 1701\n",
            "  247  496  667    4  336   46  497  403    6   64   77   69  270   22]\n"
          ],
          "name": "stdout"
        }
      ]
    },
    {
      "cell_type": "code",
      "metadata": {
        "id": "au2Ki3qWk1-s",
        "colab_type": "code",
        "outputId": "20792cae-8115-49ef-82d9-144e1a94952a",
        "colab": {
          "base_uri": "https://localhost:8080/",
          "height": 35
        }
      },
      "source": [
        "train = df_clean.sample(frac=0.85)\n",
        "test_and_validation = df_clean.loc[~df_clean.index.isin(train.index)]\n",
        "validation = test_and_validation.sample(frac=0.5)\n",
        "test = test_and_validation.loc[~test_and_validation.index.isin(validation.index)]\n",
        "\n",
        "print(train.shape, validation.shape, test.shape)"
      ],
      "execution_count": 20,
      "outputs": [
        {
          "output_type": "stream",
          "text": [
            "(2678, 4) (236, 4) (236, 4)\n"
          ],
          "name": "stdout"
        }
      ]
    },
    {
      "cell_type": "code",
      "metadata": {
        "id": "81sxk_FrlGxE",
        "colab_type": "code",
        "colab": {}
      },
      "source": [
        "def get_arrayed_data(df_set):\n",
        "    setX = np.stack(df_set['padded_sequences'].values, axis=0)\n",
        "    setY = pd.get_dummies(df_set['sentiment']).values #using one-hot encoding\n",
        "    \n",
        "    return (setX, setY)\n",
        "\n",
        "trainX, trainY = get_arrayed_data(train)\n",
        "validationX, validationY = get_arrayed_data(validation)\n",
        "testX, testY = get_arrayed_data(test)"
      ],
      "execution_count": 0,
      "outputs": []
    },
    {
      "cell_type": "code",
      "metadata": {
        "id": "BPk0TyeGl-bi",
        "colab_type": "code",
        "outputId": "fc09df57-73b6-4f3e-9768-648b5a0e7588",
        "colab": {
          "base_uri": "https://localhost:8080/",
          "height": 35
        }
      },
      "source": [
        "print(trainX.shape)"
      ],
      "execution_count": 22,
      "outputs": [
        {
          "output_type": "stream",
          "text": [
            "(2678, 252)\n"
          ],
          "name": "stdout"
        }
      ]
    },
    {
      "cell_type": "code",
      "metadata": {
        "id": "HorrtMsf_5_E",
        "colab_type": "code",
        "colab": {}
      },
      "source": [
        "# #Tokenization\n",
        "\n",
        "# max_len = 200\n",
        "# max_features = 3700\n",
        "\n",
        "# tokenizer = Tokenizer(num_words=max_features)\n",
        "# tokenizer.fit_on_texts(x)\n",
        "\n",
        "# X = tokenizer.texts_to_sequences(x)\n",
        "# X = pad_sequences(X, maxlen=max_len)"
      ],
      "execution_count": 0,
      "outputs": []
    },
    {
      "cell_type": "code",
      "metadata": {
        "id": "311F1XcLYOIn",
        "colab_type": "code",
        "colab": {}
      },
      "source": [
        "# Split\n",
        "# X_train, X_test, y_train, y_test = train_test_split(X,Y, test_size=0.1, random_state=2019)"
      ],
      "execution_count": 0,
      "outputs": []
    },
    {
      "cell_type": "code",
      "metadata": {
        "id": "5memAjt-2QJs",
        "colab_type": "code",
        "colab": {}
      },
      "source": [
        "embeddings = {}\n",
        "f = open('/content/gdrive/My Drive/glove.6B.100d.txt', 'r', encoding = 'utf-8')\n",
        "for line in f:\n",
        "    values = line.split()\n",
        "    word = values[0]\n",
        "    vector = np.asarray(values[1:], dtype='float32')\n",
        "    embeddings[word] = vector\n",
        "f.close()"
      ],
      "execution_count": 0,
      "outputs": []
    },
    {
      "cell_type": "code",
      "metadata": {
        "id": "0RPm2shcmMv8",
        "colab_type": "code",
        "colab": {}
      },
      "source": [
        "from keras.layers import Embedding\n",
        "embedding_matrix = np.zeros((len(tokenizer.word_index) + 1, 100))\n",
        "for word, i in tokenizer.word_index.items():\n",
        "    # words that are not in pretrained embedding will be zero vectors.\n",
        "    if word in embeddings:\n",
        "        embedding_matrix[i] = embeddings[word]"
      ],
      "execution_count": 0,
      "outputs": []
    },
    {
      "cell_type": "code",
      "metadata": {
        "id": "c89DZGad5mLy",
        "colab_type": "code",
        "colab": {}
      },
      "source": [
        "embedding_layer = Embedding(len(tokenizer.word_index) + 1, 100,\n",
        "                            weights=[embedding_matrix],\n",
        "                            input_length=max_sequence_length,\n",
        "                            trainable=False)"
      ],
      "execution_count": 0,
      "outputs": []
    },
    {
      "cell_type": "code",
      "metadata": {
        "id": "tCwy-mov5t5n",
        "colab_type": "code",
        "colab": {}
      },
      "source": [
        "from keras.models import Sequential\n",
        "from keras.layers import Dense, Input, LSTM, Flatten, Dropout"
      ],
      "execution_count": 0,
      "outputs": []
    },
    {
      "cell_type": "code",
      "metadata": {
        "id": "hSqDbdEc58rh",
        "colab_type": "code",
        "colab": {}
      },
      "source": [
        "def simple_reccurent_model(input_shape, output_shape):\n",
        "    model = Sequential()\n",
        "    model.add(embedding_layer)\n",
        "    model.add(LSTM(64, dropout=0.2))\n",
        "    #model.add(Flatten())\n",
        "    model.add(Dense(64, activation='relu'))\n",
        "    model.add(Dense(output_shape, activation='softmax'))\n",
        "    return model"
      ],
      "execution_count": 0,
      "outputs": []
    },
    {
      "cell_type": "code",
      "metadata": {
        "id": "n6Vzb09x6BUJ",
        "colab_type": "code",
        "colab": {}
      },
      "source": [
        "model = simple_reccurent_model(trainX.shape[1], trainY.shape[1])\n",
        "model.compile(loss='categorical_crossentropy', optimizer='adam',metrics=['accuracy'])"
      ],
      "execution_count": 0,
      "outputs": []
    },
    {
      "cell_type": "code",
      "metadata": {
        "id": "lLoKZTLz6JBb",
        "colab_type": "code",
        "outputId": "919aeb76-b2d2-4032-d080-825a6d72c404",
        "colab": {
          "base_uri": "https://localhost:8080/",
          "height": 301
        }
      },
      "source": [
        "model.summary()"
      ],
      "execution_count": 29,
      "outputs": [
        {
          "output_type": "stream",
          "text": [
            "Model: \"sequential_1\"\n",
            "_________________________________________________________________\n",
            "Layer (type)                 Output Shape              Param #   \n",
            "=================================================================\n",
            "embedding_1 (Embedding)      (None, 252, 100)          387000    \n",
            "_________________________________________________________________\n",
            "lstm_1 (LSTM)                (None, 64)                42240     \n",
            "_________________________________________________________________\n",
            "dense_1 (Dense)              (None, 64)                4160      \n",
            "_________________________________________________________________\n",
            "dense_2 (Dense)              (None, 2)                 130       \n",
            "=================================================================\n",
            "Total params: 433,530\n",
            "Trainable params: 46,530\n",
            "Non-trainable params: 387,000\n",
            "_________________________________________________________________\n"
          ],
          "name": "stdout"
        }
      ]
    },
    {
      "cell_type": "code",
      "metadata": {
        "id": "0oW6j8t-6XgA",
        "colab_type": "code",
        "outputId": "30600063-7d76-4e67-a295-367a947c84df",
        "colab": {
          "base_uri": "https://localhost:8080/",
          "height": 746
        }
      },
      "source": [
        "model.fit(trainX, trainY, batch_size=64, epochs=20)"
      ],
      "execution_count": 30,
      "outputs": [
        {
          "output_type": "stream",
          "text": [
            "Epoch 1/20\n",
            "2678/2678 [==============================] - 27s 10ms/step - loss: 0.3531 - accuracy: 0.8954\n",
            "Epoch 2/20\n",
            "2678/2678 [==============================] - 25s 9ms/step - loss: 0.2563 - accuracy: 0.9167\n",
            "Epoch 3/20\n",
            "2678/2678 [==============================] - 25s 9ms/step - loss: 0.2211 - accuracy: 0.9178\n",
            "Epoch 4/20\n",
            "2678/2678 [==============================] - 25s 9ms/step - loss: 0.2318 - accuracy: 0.9190\n",
            "Epoch 5/20\n",
            "2678/2678 [==============================] - 25s 9ms/step - loss: 0.1994 - accuracy: 0.9242\n",
            "Epoch 6/20\n",
            "2678/2678 [==============================] - 25s 9ms/step - loss: 0.1954 - accuracy: 0.9264\n",
            "Epoch 7/20\n",
            "2678/2678 [==============================] - 25s 9ms/step - loss: 0.1796 - accuracy: 0.9261\n",
            "Epoch 8/20\n",
            "2678/2678 [==============================] - 25s 9ms/step - loss: 0.1731 - accuracy: 0.9347\n",
            "Epoch 9/20\n",
            "2678/2678 [==============================] - 25s 9ms/step - loss: 0.1673 - accuracy: 0.9369\n",
            "Epoch 10/20\n",
            "2678/2678 [==============================] - 25s 9ms/step - loss: 0.1613 - accuracy: 0.9324\n",
            "Epoch 11/20\n",
            "2678/2678 [==============================] - 24s 9ms/step - loss: 0.1411 - accuracy: 0.9462\n",
            "Epoch 12/20\n",
            "2678/2678 [==============================] - 25s 9ms/step - loss: 0.1325 - accuracy: 0.9473\n",
            "Epoch 13/20\n",
            "2678/2678 [==============================] - 25s 9ms/step - loss: 0.1244 - accuracy: 0.9526\n",
            "Epoch 14/20\n",
            "2678/2678 [==============================] - 24s 9ms/step - loss: 0.1139 - accuracy: 0.9533\n",
            "Epoch 15/20\n",
            "2678/2678 [==============================] - 25s 9ms/step - loss: 0.1053 - accuracy: 0.9537\n",
            "Epoch 16/20\n",
            "2678/2678 [==============================] - 24s 9ms/step - loss: 0.0960 - accuracy: 0.9608\n",
            "Epoch 17/20\n",
            "2678/2678 [==============================] - 24s 9ms/step - loss: 0.0902 - accuracy: 0.9645\n",
            "Epoch 18/20\n",
            "2678/2678 [==============================] - 25s 9ms/step - loss: 0.0775 - accuracy: 0.9716\n",
            "Epoch 19/20\n",
            "2678/2678 [==============================] - 25s 9ms/step - loss: 0.0689 - accuracy: 0.9735\n",
            "Epoch 20/20\n",
            "2678/2678 [==============================] - 25s 9ms/step - loss: 0.0628 - accuracy: 0.9735\n"
          ],
          "name": "stdout"
        },
        {
          "output_type": "execute_result",
          "data": {
            "text/plain": [
              "<keras.callbacks.callbacks.History at 0x7f0360015e48>"
            ]
          },
          "metadata": {
            "tags": []
          },
          "execution_count": 30
        }
      ]
    },
    {
      "cell_type": "code",
      "metadata": {
        "id": "20WXB9VQZQHH",
        "colab_type": "code",
        "outputId": "7903baa4-46c6-428d-fd07-fad67c8208c5",
        "colab": {
          "base_uri": "https://localhost:8080/",
          "height": 52
        }
      },
      "source": [
        "score, accuracy = model.evaluate(validationX, validationY, batch_size=64)\n",
        "print(accuracy)"
      ],
      "execution_count": 31,
      "outputs": [
        {
          "output_type": "stream",
          "text": [
            "236/236 [==============================] - 0s 1ms/step\n",
            "0.944915235042572\n"
          ],
          "name": "stdout"
        }
      ]
    },
    {
      "cell_type": "code",
      "metadata": {
        "id": "JKJCurYH85lV",
        "colab_type": "code",
        "colab": {
          "base_uri": "https://localhost:8080/",
          "height": 35
        },
        "outputId": "62754675-16e1-41f9-d880-cff31bb6445e"
      },
      "source": [
        "print(score)"
      ],
      "execution_count": 60,
      "outputs": [
        {
          "output_type": "stream",
          "text": [
            "0.21054782276436435\n"
          ],
          "name": "stdout"
        }
      ]
    },
    {
      "cell_type": "markdown",
      "metadata": {
        "id": "PuaNMDGq754w",
        "colab_type": "text"
      },
      "source": [
        "# Use Model to predict on your own sample"
      ]
    },
    {
      "cell_type": "code",
      "metadata": {
        "id": "0t7RyWuTzN4V",
        "colab_type": "code",
        "colab": {}
      },
      "source": [
        "t = \"Alexa is so far the best product from amazon i have ever bought. it is equipped with many functionalities, loved it!!\""
      ],
      "execution_count": 0,
      "outputs": []
    },
    {
      "cell_type": "code",
      "metadata": {
        "id": "BwTK0cg6zUZa",
        "colab_type": "code",
        "colab": {}
      },
      "source": [
        "t.lower()\n",
        "t = re.sub(pattern,'',t)\n",
        "t = neg_pattern.sub(lambda x: negations_dic[x.group()], t)\n",
        "t = word_tokenize(t)\n",
        "t = [x for x in t if len(x) >1]\n",
        "t = [x for x in t if x not in stop_words]\n",
        "t = [x for x in t if x.isalpha()]\n",
        "t = \" \".join(t)\n",
        "t = re.sub(\"n't\",\"not\",t)\n",
        "t = re.sub(\"'s\",\"is\",t)"
      ],
      "execution_count": 0,
      "outputs": []
    },
    {
      "cell_type": "code",
      "metadata": {
        "id": "qduZKDWa0LCY",
        "colab_type": "code",
        "colab": {
          "base_uri": "https://localhost:8080/",
          "height": 35
        },
        "outputId": "50075c12-8885-4e6b-a7c2-cc7fdcf48f3f"
      },
      "source": [
        "print(t)"
      ],
      "execution_count": 100,
      "outputs": [
        {
          "output_type": "stream",
          "text": [
            "Alexa far best product amazon ever bought equipped many functionalities loved\n"
          ],
          "name": "stdout"
        }
      ]
    },
    {
      "cell_type": "code",
      "metadata": {
        "id": "fMSk-KRK0Mh4",
        "colab_type": "code",
        "colab": {}
      },
      "source": [
        "t1 = tokenizer.texts_to_sequences([t])[0]"
      ],
      "execution_count": 0,
      "outputs": []
    },
    {
      "cell_type": "code",
      "metadata": {
        "id": "O6bjRlKx2DQg",
        "colab_type": "code",
        "colab": {
          "base_uri": "https://localhost:8080/",
          "height": 35
        },
        "outputId": "df5cd20c-a843-4b51-fa6f-e66c01c54fd4"
      },
      "source": [
        "print(t1)"
      ],
      "execution_count": 102,
      "outputs": [
        {
          "output_type": "stream",
          "text": [
            "[4, 43, 93, 18, 17, 353, 29, 81, 1960, 183]\n"
          ],
          "name": "stdout"
        }
      ]
    },
    {
      "cell_type": "code",
      "metadata": {
        "id": "3Fpj70UR2EpA",
        "colab_type": "code",
        "colab": {
          "base_uri": "https://localhost:8080/",
          "height": 337
        },
        "outputId": "226ac12a-76e3-40e7-cc16-bb781b5d27dc"
      },
      "source": [
        "t1 = pad_sequences([t1], max_sequence_length)[0]\n",
        "print(t1)"
      ],
      "execution_count": 103,
      "outputs": [
        {
          "output_type": "stream",
          "text": [
            "[   0    0    0    0    0    0    0    0    0    0    0    0    0    0\n",
            "    0    0    0    0    0    0    0    0    0    0    0    0    0    0\n",
            "    0    0    0    0    0    0    0    0    0    0    0    0    0    0\n",
            "    0    0    0    0    0    0    0    0    0    0    0    0    0    0\n",
            "    0    0    0    0    0    0    0    0    0    0    0    0    0    0\n",
            "    0    0    0    0    0    0    0    0    0    0    0    0    0    0\n",
            "    0    0    0    0    0    0    0    0    0    0    0    0    0    0\n",
            "    0    0    0    0    0    0    0    0    0    0    0    0    0    0\n",
            "    0    0    0    0    0    0    0    0    0    0    0    0    0    0\n",
            "    0    0    0    0    0    0    0    0    0    0    0    0    0    0\n",
            "    0    0    0    0    0    0    0    0    0    0    0    0    0    0\n",
            "    0    0    0    0    0    0    0    0    0    0    0    0    0    0\n",
            "    0    0    0    0    0    0    0    0    0    0    0    0    0    0\n",
            "    0    0    0    0    0    0    0    0    0    0    0    0    0    0\n",
            "    0    0    0    0    0    0    0    0    0    0    0    0    0    0\n",
            "    0    0    0    0    0    0    0    0    0    0    0    0    0    0\n",
            "    0    0    0    0    0    0    0    0    0    0    0    0    0    0\n",
            "    0    0    0    0    4   43   93   18   17  353   29   81 1960  183]\n"
          ],
          "name": "stdout"
        }
      ]
    },
    {
      "cell_type": "code",
      "metadata": {
        "id": "PSm4Rn-43cns",
        "colab_type": "code",
        "colab": {
          "base_uri": "https://localhost:8080/",
          "height": 35
        },
        "outputId": "b0fc209a-0ac4-4ed6-c347-72bb132a6808"
      },
      "source": [
        "print(t1.shape)"
      ],
      "execution_count": 104,
      "outputs": [
        {
          "output_type": "stream",
          "text": [
            "(252,)\n"
          ],
          "name": "stdout"
        }
      ]
    },
    {
      "cell_type": "code",
      "metadata": {
        "id": "oWtjqZpp4mMb",
        "colab_type": "code",
        "colab": {}
      },
      "source": [
        "process_review = t1.reshape(1,-1)"
      ],
      "execution_count": 0,
      "outputs": []
    },
    {
      "cell_type": "code",
      "metadata": {
        "id": "Wj2cWVIs5Qng",
        "colab_type": "code",
        "colab": {
          "base_uri": "https://localhost:8080/",
          "height": 35
        },
        "outputId": "c0cab424-451a-4262-b791-1b326755e47f"
      },
      "source": [
        "process_review.shape"
      ],
      "execution_count": 106,
      "outputs": [
        {
          "output_type": "execute_result",
          "data": {
            "text/plain": [
              "(1, 252)"
            ]
          },
          "metadata": {
            "tags": []
          },
          "execution_count": 106
        }
      ]
    },
    {
      "cell_type": "code",
      "metadata": {
        "id": "vz50n8OV5sEB",
        "colab_type": "code",
        "colab": {}
      },
      "source": [
        "def final_pred(pred):\n",
        "  if(pred[0]>0.5):\n",
        "    print(\"The review conveys a negative sentiment\")\n",
        "  elif(pred[1]>=0.5):\n",
        "    print(\"The review conveys a positive sentiment\")"
      ],
      "execution_count": 0,
      "outputs": []
    },
    {
      "cell_type": "code",
      "metadata": {
        "id": "97YgrVao5T4A",
        "colab_type": "code",
        "colab": {
          "base_uri": "https://localhost:8080/",
          "height": 35
        },
        "outputId": "a9db6828-7fdc-466e-a87c-cbb73915de16"
      },
      "source": [
        "prediction = model.predict(process_review)[0]\n",
        "print(prediction)"
      ],
      "execution_count": 108,
      "outputs": [
        {
          "output_type": "stream",
          "text": [
            "[8.9779863e-04 9.9910223e-01]\n"
          ],
          "name": "stdout"
        }
      ]
    },
    {
      "cell_type": "code",
      "metadata": {
        "id": "xfJJyoeR-FGl",
        "colab_type": "code",
        "colab": {
          "base_uri": "https://localhost:8080/",
          "height": 35
        },
        "outputId": "dba9087b-7fe6-4041-c860-511d79ec948a"
      },
      "source": [
        "final_pred(prediction)"
      ],
      "execution_count": 109,
      "outputs": [
        {
          "output_type": "stream",
          "text": [
            "The review conveys a positive sentiment\n"
          ],
          "name": "stdout"
        }
      ]
    },
    {
      "cell_type": "code",
      "metadata": {
        "id": "k2_0-E5d_C3t",
        "colab_type": "code",
        "colab": {}
      },
      "source": [
        ""
      ],
      "execution_count": 0,
      "outputs": []
    }
  ]
}